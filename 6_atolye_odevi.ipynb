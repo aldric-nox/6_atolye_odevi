{
 "cells": [
  {
   "cell_type": "markdown",
   "metadata": {},
   "source": [
    "1. Bir sözlük oluşturulur ve bu sözlükte öğrencilerin isimleri ve Matematik, Fizik, Kimya notları tutulur. Kullanıcıdan isim ve ders ismi(Matematik, Fizik, Kimya) istenir ve bu bilgilere göre çıktı verilir."
   ]
  },
  {
   "cell_type": "code",
   "execution_count": 6,
   "metadata": {},
   "outputs": [
    {
     "name": "stdout",
     "output_type": "stream",
     "text": [
      "Ali adlı öğrencinin Matematik notu: 85\n"
     ]
    }
   ],
   "source": [
    "ogrenci_notlari = {\n",
    "    \"Ali\": {\"Matematik\": 85, \"Fizik\": 90, \"Kimya\": 78},\n",
    "    \"Ayşe\": {\"Matematik\": 92, \"Fizik\": 88, \"Kimya\": 95},\n",
    "    \"Mehmet\": {\"Matematik\": 76, \"Fizik\": 81, \"Kimya\": 89}\n",
    "}\n",
    "\n",
    "isim = input(\"Öğrencinin ismi nedir? (Ali, Ayşe, Mehmet): \")\n",
    "ders = input(\"Hangi dersin notunu öğrenmek istiyorsunuz? (Matematik, Fizik, Kimya): \")\n",
    "\n",
    "if isim in ogrenci_notlari and ders in ogrenci_notlari[isim]:\n",
    "    notu = ogrenci_notlari[isim][ders]\n",
    "    print(f\"{isim} adlı öğrencinin {ders} notu: {notu}\")\n",
    "else:\n",
    "    print(\"Öğrenci adı veya ders ismi yanlış.\")"
   ]
  },
  {
   "cell_type": "code",
   "execution_count": 2,
   "metadata": {},
   "outputs": [
    {
     "name": "stdout",
     "output_type": "stream",
     "text": [
      "Yapmak istediğiniz işlemi seçin:\n",
      "1. Bir öğrencinin notunu görüntüle\n",
      "2. Bir öğrencinin notunu güncelle\n",
      "3. Yeni öğrenci ekle\n",
      "Ali adlı öğrencinin Fizik notu başarıyla güncellendi.\n",
      "Güncellenmiş Öğrenci Notları Sözlüğü:\n",
      "Ali: {'Matematik': 85, 'Fizik': 99, 'Kimya': 78}\n",
      "Ayşe: {'Matematik': 92, 'Fizik': 88, 'Kimya': 95}\n",
      "Mehmet: {'Matematik': 76, 'Fizik': 81, 'Kimya': 89}\n"
     ]
    }
   ],
   "source": [
    "ogrenci_notlari = {\n",
    "    \"Ali\": {\"Matematik\": 85, \"Fizik\": 90, \"Kimya\": 78},\n",
    "    \"Ayşe\": {\"Matematik\": 92, \"Fizik\": 88, \"Kimya\": 95},\n",
    "    \"Mehmet\": {\"Matematik\": 76, \"Fizik\": 81, \"Kimya\": 89}\n",
    "}\n",
    "\n",
    "print(\"Yapmak istediğiniz işlemi seçin:\")\n",
    "print(\"1. Bir öğrencinin notunu görüntüle\")\n",
    "print(\"2. Bir öğrencinin notunu güncelle\")\n",
    "print(\"3. Yeni öğrenci ekle\")\n",
    "secim = input(\"Seçiminiz (1, 2, 3): \")\n",
    "\n",
    "if secim == \"1\":\n",
    "    isim = input(\"Öğrencinin ismi nedir? (Ali, Ayşe, Mehmet): \")\n",
    "    ders = input(\"Hangi dersin notunu öğrenmek istiyorsunuz? (Matematik, Fizik, Kimya): \")\n",
    "\n",
    "    if isim in ogrenci_notlari and ders in ogrenci_notlari[isim]:\n",
    "        notu = ogrenci_notlari[isim][ders]\n",
    "        print(f\"{isim} adlı öğrencinin {ders} notu: {notu}\")\n",
    "    else:\n",
    "        print(\"Öğrenci adı veya ders ismi yanlış.\")\n",
    "\n",
    "elif secim == \"2\":\n",
    "    isim = input(\"Notunu güncellemek istediğiniz öğrencinin ismi nedir? (Ali, Ayşe, Mehmet): \")\n",
    "    ders = input(\"Hangi dersin notunu güncellemek istiyorsunuz? (Matematik, Fizik, Kimya): \")\n",
    "\n",
    "    if isim in ogrenci_notlari and ders in ogrenci_notlari[isim]:\n",
    "        yeni_not = int(input(f\"{isim} adlı öğrencinin {ders} notunun yeni değeri nedir?: \"))\n",
    "        ogrenci_notlari[isim][ders] = yeni_not\n",
    "        print(f\"{isim} adlı öğrencinin {ders} notu başarıyla güncellendi.\")\n",
    "    else:\n",
    "        print(\"Öğrenci adı veya ders ismi yanlış.\")\n",
    "\n",
    "elif secim == \"3\":\n",
    "    yeni_isim = input(\"Yeni öğrencinin ismi nedir?: \")\n",
    "    matematik_notu = int(input(\"Bu öğrencinin Matematik notu nedir?: \"))\n",
    "    fizik_notu = int(input(\"Bu öğrencinin Fizik notu nedir?: \"))\n",
    "    kimya_notu = int(input(\"Bu öğrencinin Kimya notu nedir?: \"))\n",
    "    \n",
    "    ogrenci_notlari[yeni_isim] = {\n",
    "        \"Matematik\": matematik_notu,\n",
    "        \"Fizik\": fizik_notu,\n",
    "        \"Kimya\": kimya_notu\n",
    "    }\n",
    "    print(f\"{yeni_isim} adlı öğrenci başarıyla eklendi.\")\n",
    "\n",
    "else:\n",
    "    print(\"Geçersiz bir seçim yaptınız.\")\n",
    "    \n",
    "print(\"Güncellenmiş Öğrenci Notları Sözlüğü:\")\n",
    "for ogrenci, dersler in ogrenci_notlari.items():\n",
    "    print(f\"{ogrenci}: {dersler}\")\n"
   ]
  },
  {
   "cell_type": "code",
   "execution_count": null,
   "metadata": {},
   "outputs": [],
   "source": []
  }
 ],
 "metadata": {
  "kernelspec": {
   "display_name": "base",
   "language": "python",
   "name": "python3"
  },
  "language_info": {
   "codemirror_mode": {
    "name": "ipython",
    "version": 3
   },
   "file_extension": ".py",
   "mimetype": "text/x-python",
   "name": "python",
   "nbconvert_exporter": "python",
   "pygments_lexer": "ipython3",
   "version": "3.10.9"
  }
 },
 "nbformat": 4,
 "nbformat_minor": 2
}
